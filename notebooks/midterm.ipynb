{
 "cells": [
  {
   "cell_type": "markdown",
   "metadata": {},
   "source": [
    "# (INF 502) Midterm\n",
    "\n",
    "* **How to deliver:** Create a file called `midterm.ipynb` in the root folder of your GitHub repository. *Do not forget to commit and PUSH* (only one per group is enough)\n",
    "     * REMEMBER to add your names in the beginning of the document\n",
    "* **When to deliver:** This piece of your MidTerm needs to be PUSHED to your repo by Thursday (Oct. 17th) 2:20PM (**BEFORE OUR CLASS**)\n",
    "* **The midterm can be done is pairs or individually. Clear copies or clones will be zeroed**\n",
    "\n",
    "Please consider these two CSV files: [ant_bait.csv](https://github.com/igorsteinmacher/INF502-Fall2019/blob/master/notebooks/ant_bait.csv) and [ant_species.csv](https://github.com/igorsteinmacher/INF502-Fall2019/blob/master/notebooks/ant_species.csv)\n",
    "This data is part of the [census of the ant community](https://github.com/weecology/PortalData/tree/master/Ants) occurred every year (1977-2009) over a two week period during July after the summer monsoons have begun. \n",
    "\n",
    "`ant_bait` includes data collected by leaving bait piles for ants to forage. species and abundance are recorded.\n",
    "\n",
    "`ant_species` contains the ant species list and species codes used in `ant_bait`.\n",
    "\n",
    "You are requested to (the items would help you to think step by step):\n",
    "1. (**30%**) map each of the CSVs structure to classes in Python (each CSV should be mapped to a class)\n",
    " * Please provide with a constructor method receiving all the attributes as parameters\n",
    " * Create a method that enables someone to print the objects:\n",
    "       - for the ant_species it should be \"genus species (e.g., Camponotus festinatus)\n",
    "       - for the ant_bait: \"species id - month, year: + abundance (e.g., cono bico - July, 2009: 2)\n",
    "2. (**40%**) for each CSV file, create a function that receives as a parameter the name of the file to be read and create an object for each of the rows of the file:\n",
    " - for each file, create a list to store the created objects (i.e., species_list would store the objects created from the ant_species csv; bait_list would store the objects created from the ant_bait csv) -- This list is what your function should return.\n",
    "  - read a line; create an object; add to the list.\n",
    "  - can be a method of the class, or a function outside. You choose.\n",
    "3. (**30%**) you should replace the attribute `species` of `ant_bait` to an object of the class `ant_species` (In the file it maps to the `speciescode` column of `ant_species`)\n",
    "\n",
    "4. (**10% extra**) To be disclosed on Thursday \n",
    "\n",
    "Please provide textual explanation for your code (in markdown cells of your notebook). In case you prefer, you can keep the resulting code for each of the items in the list above.\n",
    "\n",
    "**SLACK** to ask questions. Please ask in the channel called **#general**, so everybody can benefit from the answer\n"
   ]
  },
  {
   "cell_type": "code",
   "execution_count": null,
   "metadata": {},
   "outputs": [],
   "source": []
  }
 ],
 "metadata": {
  "kernelspec": {
   "display_name": "Python 3",
   "language": "python",
   "name": "python3"
  },
  "language_info": {
   "codemirror_mode": {
    "name": "ipython",
    "version": 3
   },
   "file_extension": ".py",
   "mimetype": "text/x-python",
   "name": "python",
   "nbconvert_exporter": "python",
   "pygments_lexer": "ipython3",
   "version": "3.7.3"
  }
 },
 "nbformat": 4,
 "nbformat_minor": 2
}
